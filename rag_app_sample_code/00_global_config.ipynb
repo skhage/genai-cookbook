{
 "cells": [
  {
   "cell_type": "code",
   "execution_count": 0,
   "metadata": {
    "application/vnd.databricks.v1+cell": {
     "cellMetadata": {},
     "inputWidgets": {},
     "nuid": "9c9040ab-5326-4253-894f-4bd2f058a95c",
     "showTitle": false,
     "title": ""
    }
   },
   "outputs": [],
   "source": [
    "%pip install -U -qqqq mlflow mlflow-skinny"
   ]
  },
  {
   "cell_type": "code",
   "execution_count": 0,
   "metadata": {
    "application/vnd.databricks.v1+cell": {
     "cellMetadata": {},
     "inputWidgets": {},
     "nuid": "d2ba3713-d796-4b48-aabb-2ba590c6975b",
     "showTitle": false,
     "title": ""
    }
   },
   "outputs": [],
   "source": [
    "import mlflow"
   ]
  },
  {
   "cell_type": "markdown",
   "metadata": {
    "application/vnd.databricks.v1+cell": {
     "cellMetadata": {},
     "inputWidgets": {},
     "nuid": "7224c639-4334-407a-9e94-23655f72dea7",
     "showTitle": false,
     "title": ""
    }
   },
   "source": [
    "## Application configuration\n",
    "\n",
    "To begin with, we simply need to configure the following:\n",
    "1. `RAG_APP_NAME`: The name of the RAG application.  Used to name the app's Unity Catalog model and is prepended to the output Delta Tables + Vector Indexes\n",
    "2. `UC_CATALOG` & `UC_SCHEMA`: [Create a Unity Catalog](https://docs.databricks.com/en/data-governance/unity-catalog/create-catalogs.html#create-a-catalog) and a Schema where the output Delta Tables with the parsed/chunked documents and Vector Search indexes are stored\n",
    "3. `UC_MODEL_NAME`: Unity Catalog location to log and store the chain's model\n",
    "4. `VECTOR_SEARCH_ENDPOINT`: [Create a Vector Search Endpoint](https://docs.databricks.com/en/generative-ai/create-query-vector-search.html#create-a-vector-search-endpoint) to host the resulting vector index\n",
    "5. `SOURCE_PATH`: A [UC Volume](https://docs.databricks.com/en/connect/unity-catalog/volumes.html#create-and-work-with-volumes) that contains the source documents for your application.\n",
    "6. `MLFLOW_EXPERIMENT_NAME`: MLflow Experiment to track all experiments for this application.  Using the same experiment allows you to track runs across Notebooks and have unified lineage and governance for your application.\n",
    "7. `EVALUATION_SET_FQN`: Delta Table where your evaluation set will be stored.  In the POC, we will seed the evaluation set with feedback you collect from your stakeholders.\n",
    "\n",
    "After finalizing your configuration, optionally run `01_validate_config` to check that all locations exist. "
   ]
  },
  {
   "cell_type": "code",
   "execution_count": 0,
   "metadata": {
    "application/vnd.databricks.v1+cell": {
     "cellMetadata": {},
     "inputWidgets": {},
     "nuid": "afb19287-e162-44ec-af45-6bd3459d26dc",
     "showTitle": false,
     "title": ""
    }
   },
   "outputs": [],
   "source": [
    "# By default, will use the current user name to create a unique UC catalog/schema & vector search endpoint\n",
    "user_email = spark.sql(\"SELECT current_user() as username\").collect()[0].username\n",
    "user_name = user_email.split(\"@\")[0].replace(\".\", \"\").lower()[:35]"
   ]
  },
  {
   "cell_type": "code",
   "execution_count": 0,
   "metadata": {
    "application/vnd.databricks.v1+cell": {
     "cellMetadata": {},
     "inputWidgets": {},
     "nuid": "be899516-51db-4b17-b656-df345aea95e3",
     "showTitle": false,
     "title": ""
    }
   },
   "outputs": [],
   "source": [
    "# The name of the RAG application.  This is used to name the chain's UC model and prepended to the output Delta Tables + Vector Indexes\n",
    "RAG_APP_NAME = 'telco_rag_demo_2'\n",
    "\n",
    "# UC Catalog & Schema where outputs tables/indexs are saved\n",
    "# If this catalog/schema does not exist, you need create catalog/schema permissions.\n",
    "UC_CATALOG = f'main'\n",
    "UC_SCHEMA = f'telco_demos'\n",
    "\n",
    "## UC Model name where the POC chain is logged\n",
    "UC_MODEL_NAME = f\"{UC_CATALOG}.{UC_SCHEMA}.{RAG_APP_NAME}\"\n",
    "\n",
    "# Vector Search endpoint where index is loaded\n",
    "# If this does not exist, it will be created\n",
    "VECTOR_SEARCH_ENDPOINT = f'telco_demo_vector_search'\n",
    "\n",
    "# Source location for documents\n",
    "# You need to create this location and add files\n",
    "SOURCE_PATH = f\"/Volumes/{UC_CATALOG}/{UC_SCHEMA}/repair_manual\"\n",
    "\n",
    "############################\n",
    "##### We suggest accepting these defaults unless you need to change them. ######\n",
    "############################\n",
    "\n",
    "EVALUATION_SET_FQN = f\"{UC_CATALOG}.{UC_SCHEMA}.{RAG_APP_NAME}_evaluation_set\"\n",
    "\n",
    "# MLflow experiment name\n",
    "# Using the same MLflow experiment for a single app allows you to compare runs across Notebooks\n",
    "MLFLOW_EXPERIMENT_NAME = f\"/Users/{user_email}/{RAG_APP_NAME}\"\n",
    "mlflow.set_experiment(MLFLOW_EXPERIMENT_NAME)\n",
    "\n",
    "# MLflow Run Names\n",
    "# These Runs will store your initial POC application.  They are later used to evaluate the POC model against your experiments to improve quality.\n",
    "\n",
    "# Data pipeline MLflow run name\n",
    "POC_DATA_PIPELINE_RUN_NAME = \"data_pipeline_poc\"\n",
    "# Chain MLflow run name\n",
    "POC_CHAIN_RUN_NAME = \"poc\""
   ]
  },
  {
   "cell_type": "code",
   "execution_count": 0,
   "metadata": {
    "application/vnd.databricks.v1+cell": {
     "cellMetadata": {},
     "inputWidgets": {},
     "nuid": "952f6767-5bcc-4eda-bf31-e2cd53b166b9",
     "showTitle": false,
     "title": ""
    }
   },
   "outputs": [],
   "source": [
    "print(f\"RAG_APP_NAME {RAG_APP_NAME}\")\n",
    "print(f\"UC_CATALOG {UC_CATALOG}\")\n",
    "print(f\"UC_SCHEMA {UC_SCHEMA}\")\n",
    "print(f\"UC_MODEL_NAME {UC_MODEL_NAME}\")\n",
    "print(f\"VECTOR_SEARCH_ENDPOINT {VECTOR_SEARCH_ENDPOINT}\")\n",
    "print(f\"SOURCE_PATH {SOURCE_PATH}\")\n",
    "print(f\"EVALUATION_SET_FQN {EVALUATION_SET_FQN}\")\n",
    "print(f\"MLFLOW_EXPERIMENT_NAME {MLFLOW_EXPERIMENT_NAME}\")\n",
    "print(f\"POC_DATA_PIPELINE_RUN_NAME {POC_DATA_PIPELINE_RUN_NAME}\")\n",
    "print(f\"POC_CHAIN_RUN_NAME {POC_CHAIN_RUN_NAME}\")"
   ]
  }
 ],
 "metadata": {
  "application/vnd.databricks.v1+notebook": {
   "dashboards": [],
   "environmentMetadata": {
    "base_environment": "",
    "client": "1"
   },
   "language": "python",
   "notebookMetadata": {
    "pythonIndentUnit": 2
   },
   "notebookName": "00_global_config",
   "widgets": {}
  }
 },
 "nbformat": 4,
 "nbformat_minor": 0
}
